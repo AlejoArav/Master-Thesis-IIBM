{
 "cells": [
  {
   "cell_type": "code",
   "execution_count": 1,
   "metadata": {},
   "outputs": [],
   "source": [
    "import numpy as np\n",
    "import pandas as pd\n",
    "import matplotlib.pyplot as plt\n",
    "import seaborn as sns\n",
    "import os\n",
    "import cv2\n",
    "import tqdm\n",
    "\n",
    "# Using seaborn's style\n",
    "plt.style.use('ggplot')\n",
    "width = 'thesis'\n",
    "\n",
    "tex_fonts = {\n",
    "    # Use LaTeX to write all text\n",
    "    \"text.usetex\": True,\n",
    "    \"font.family\": \"serif\",\n",
    "    # Use 10pt font in plots, to match 10pt font in document\n",
    "    \"axes.labelsize\": 10,\n",
    "    \"font.size\": 10,\n",
    "    # Make the legend/label fonts a little smaller\n",
    "    \"legend.fontsize\": 8,\n",
    "    \"xtick.labelsize\": 8,\n",
    "    \"ytick.labelsize\": 8,\n",
    "    # Remove grid lines\n",
    "    \"axes.grid\": False,\n",
    "    # Show the ticks for the x and y axes\n",
    "    \"axes.spines.bottom\": False,\n",
    "    \"axes.spines.left\": False,\n",
    "    \"xtick.major.size\" : 6,\n",
    "    \"ytick.major.size\" : 6, \n",
    "    \"xtick.minor.size\" : 3, \n",
    "    \"ytick.minor.size\" : 3,\n",
    "    \"xtick.major.width\" : 1,\n",
    "    \"ytick.major.width\" : 1,\n",
    "    \"xtick.minor.width\" : 1,\n",
    "    \"ytick.minor.width\" : 1,\n",
    "    # Outline the plot area\n",
    "    \"axes.spines.top\": False,\n",
    "    \"axes.spines.right\": False,\n",
    "}\n",
    "\n",
    "plt.rcParams.update(tex_fonts)"
   ]
  },
  {
   "cell_type": "code",
   "execution_count": 2,
   "metadata": {},
   "outputs": [],
   "source": [
    "wd = \"C:\\\\Users\\\\simulationsFFlab\\\\Desktop\\\\Simulations_Thesis\"\n",
    "os.chdir(wd)"
   ]
  },
  {
   "cell_type": "code",
   "execution_count": 3,
   "metadata": {},
   "outputs": [],
   "source": [
    "# Search the current directory for folders with the word simulation_2023 in them\n",
    "# These folders contain the data from the simulations\n",
    "folders = [f for f in os.listdir() if 'simulation_2023' in f]"
   ]
  },
  {
   "cell_type": "code",
   "execution_count": 4,
   "metadata": {},
   "outputs": [],
   "source": [
    "Dms = [\n",
    "    \"DM_0.01\",\n",
    "    \"DM_0.05\",\n",
    "    \"DM_0.1\",\n",
    "    \"DM_0.25\",\n",
    "    \"DM_0.5\",\n",
    "    \"DM_0.75\",\n",
    "    \"DM_1.0\",\n",
    "    \"DM_3.0\",\n",
    "    \"DM_5.0\",\n",
    "    \"DM_10.0\",\n",
    "    ]\n",
    "De_vals = [0.01, 0.05, 0.1, 0.5, 1.0, 5.0, 10.0, 25.0, 50.0, 75.0]\n",
    "Des = [\"DE_{}\".format(i) for i in De_vals]\n"
   ]
  },
  {
   "cell_type": "code",
   "execution_count": 5,
   "metadata": {},
   "outputs": [],
   "source": [
    "# Check whether there is a folder names IMAGES_THESIS in the current directory\n",
    "# If not, create one\n",
    "if not os.path.exists(\"IMAGES_THESIS\"):\n",
    "    os.mkdir(\"IMAGES_THESIS\")"
   ]
  },
  {
   "cell_type": "code",
   "execution_count": 18,
   "metadata": {},
   "outputs": [
    {
     "name": "stderr",
     "output_type": "stream",
     "text": [
      "  0%|          | 0/500 [00:00<?, ?it/s]C:\\Users\\simulationsFFlab\\AppData\\Local\\Temp\\ipykernel_15780\\1533413815.py:25: RuntimeWarning: invalid value encountered in divide\n",
      "  rfp = rfp / np.max(rfp)\n",
      "C:\\Users\\simulationsFFlab\\AppData\\Local\\Temp\\ipykernel_15780\\1533413815.py:32: RuntimeWarning: invalid value encountered in cast\n",
      "  image_array = (image_array * 255).astype(np.uint8)\n",
      "100%|██████████| 500/500 [25:14<00:00,  3.03s/it]\n"
     ]
    }
   ],
   "source": [
    "image_array = np.zeros((256, 256, 3))\n",
    "# Loop over the folders (use tqdm to show progress bar)\n",
    "for folder in tqdm.tqdm(folders):\n",
    "    # Change the working directory to the folder\n",
    "    os.chdir(wd + \"\\\\\" + folder)\n",
    "    # List the files in the folder if the files end with .npz\n",
    "    files = [f for f in os.listdir() if f.endswith('.npz')]\n",
    "    # Check whether there is a folder with the name of the folder in IMAGES_THESIS\n",
    "    # If not, create one\n",
    "    if not os.path.exists(wd + \"\\\\IMAGES_THESIS\\\\\" + folder):\n",
    "        os.mkdir(wd + \"\\\\IMAGES_THESIS\\\\\" + folder)\n",
    "    # Sort the files by the third integer after splitting by underscores\n",
    "    files.sort(key=lambda f: int((f.split('_')[2]).split('.')[0]))\n",
    "    # For all .npz files in the folder, loop over them and load the rfp anf gfp arrays\n",
    "    for file in files:\n",
    "        # Load the arrays\n",
    "        data = np.load(file)\n",
    "        rfp = data['rfp']\n",
    "        gfp = data['gfp']\n",
    "        # Normalize the arrays between the minimum of the two and the maximum of the two\n",
    "        # This is done to make sure that the colors are consistent between the images\n",
    "        rfp = (rfp - np.min([np.min(rfp), np.min(gfp)])) / (np.max([np.max(rfp), np.max(gfp)]) - np.min([np.min(rfp), np.min(gfp)]))\n",
    "        gfp = (gfp - np.min([np.min(rfp), np.min(gfp)])) / (np.max([np.max(rfp), np.max(gfp)]) - np.min([np.min(rfp), np.min(gfp)]))\n",
    "        # Normalize again between 0 and 1\n",
    "        rfp = rfp / np.max(rfp)\n",
    "        gfp = gfp / np.max(gfp)\n",
    "        # Create the image array (remember that cv2 uses BGR instead of RGB)\n",
    "        image_array[:, :, 0] = 0\n",
    "        image_array[:, :, 1] = gfp\n",
    "        image_array[:, :, 2] = rfp\n",
    "        # Convert the array to uint8\n",
    "        image_array = (image_array * 255).astype(np.uint8)\n",
    "        # Save the image\n",
    "        cv2.imwrite(wd + \"\\\\IMAGES_THESIS\\\\\" + folder + \"\\\\\" + file.split('.')[0] + \".png\", image_array)\n",
    "        # Reset the image array\n",
    "        image_array = np.zeros((256, 256, 3))\n",
    "\n",
    "    # Create a video from the images\n",
    "    # Change the working directory to the folder with the images\n",
    "    os.chdir(wd + \"\\\\IMAGES_THESIS\\\\\" + folder)\n",
    "    # List the files in the folder\n",
    "    files = [f for f in os.listdir() if f.endswith('.png')]\n",
    "    # Sort the files by the third integer after splitting by underscores\n",
    "    files.sort(key=lambda f: int((f.split('_')[2]).split('.')[0]))\n",
    "    # Create a video writer, set the codec to mp4v, the fps to 10 and the size to 256x256\n",
    "    fourcc = cv2.VideoWriter_fourcc(*'mp4v')\n",
    "    out = cv2.VideoWriter(folder + '.mp4', fourcc, 10.0, (256, 256))\n",
    "    # Loop over the files\n",
    "    for file in files:\n",
    "        # Read the image\n",
    "        img = cv2.imread(file)\n",
    "        # Write the image to the video\n",
    "        out.write(img)\n",
    "    # Change the working directory back to the main directory\n",
    "    os.chdir(wd)\n",
    "       "
   ]
  },
  {
   "cell_type": "code",
   "execution_count": 6,
   "metadata": {},
   "outputs": [],
   "source": [
    "# Filter out the folders that contain \"DM_1.0\" and \"DE_10.0\"\n",
    "# These folders contain the data from the simulations\n",
    "folders = [f for f in folders if \"DM_1.0\" in f and \"DE_10.0\" in f]"
   ]
  },
  {
   "cell_type": "code",
   "execution_count": 8,
   "metadata": {},
   "outputs": [
    {
     "name": "stderr",
     "output_type": "stream",
     "text": [
      "  0%|          | 0/5 [00:00<?, ?it/s]"
     ]
    },
    {
     "name": "stderr",
     "output_type": "stream",
     "text": [
      "100%|██████████| 5/5 [14:02<00:00, 168.45s/it]\n"
     ]
    }
   ],
   "source": [
    "# Loop over the folders (use tqdm to show progress bar)\n",
    "for folder in tqdm.tqdm(folders):\n",
    "    # Change the working directory to the folder\n",
    "    os.chdir(wd + \"\\\\\" + folder)\n",
    "    # List the files in the folder if the files end with .npz\n",
    "    files = [f for f in os.listdir() if f.endswith('.npz')]\n",
    "    # Check whether there is a folder with the name of the folder in IMAGES_THESIS\n",
    "    # If not, create one\n",
    "    if not os.path.exists(wd + \"\\\\IMAGES_THESIS\\\\\" + folder):\n",
    "        os.mkdir(wd + \"\\\\IMAGES_THESIS\\\\\" + folder)\n",
    "    # Sort the files by the third integer after splitting by underscores\n",
    "    files.sort(key=lambda f: int((f.split('_')[2]).split('.')[0]))\n",
    "    # Create an empty array to store the data for the rpf and gfp\n",
    "    full_data = np.zeros((256, 256, 2, len(files)))\n",
    "    # For all .npz files in the folder, loop over them and load the rfp anf gfp arrays\n",
    "    for file in files:\n",
    "        # Load the arrays\n",
    "        data = np.load(file)\n",
    "        rfp = data['rfp']\n",
    "        gfp = data['gfp']\n",
    "        # Add the arrays to the full_data array\n",
    "        full_data[:, :, 0, files.index(file)] = rfp\n",
    "        full_data[:, :, 1, files.index(file)] = gfp\n",
    "    # Consider that each of the points in the array corresponds to a cell expressing gfp and rfp\n",
    "    # We have to plot the dynamics of the gfp and rfp expression for each of the cells\n",
    "    # To do this, we have to loop over the first two dimensions of the array\n",
    "    # Create a figure with one plot, the rfp and gfp will be plotted on the same plot\n",
    "    fig, ax = plt.subplots(figsize=(6, 3), dpi=300)\n",
    "    # Loop over the first two dimensions of the array\n",
    "    for i in range(full_data.shape[0]):\n",
    "        for j in range(full_data.shape[1]):\n",
    "            # Plot the data\n",
    "            ax.plot(full_data[i, j, 0, :], color='red', alpha=0.1)\n",
    "            ax.plot(full_data[i, j, 1, :], color='green', alpha=0.1)\n",
    "    # Set the x and y labels\n",
    "    ax.set_xlabel('Tiempo (min)')\n",
    "    ax.set_ylabel('Concentración de Reportero ($\\mu M$)')\n",
    "    # Set the title\n",
    "    ax.set_title('Dinámica de expresión del sistema bidimensional')\n",
    "    # Save the figure\n",
    "    plt.savefig(wd + \"\\\\IMAGES_THESIS\\\\\" + folder + \"\\\\\" + folder + \"_EXPRESSION_DYNAMICS.png\", dpi=300)\n",
    "    # Close the figure\n",
    "    plt.close(fig)"
   ]
  },
  {
   "cell_type": "code",
   "execution_count": null,
   "metadata": {},
   "outputs": [],
   "source": []
  },
  {
   "cell_type": "code",
   "execution_count": null,
   "metadata": {},
   "outputs": [],
   "source": []
  },
  {
   "cell_type": "code",
   "execution_count": null,
   "metadata": {},
   "outputs": [],
   "source": []
  },
  {
   "cell_type": "code",
   "execution_count": null,
   "metadata": {},
   "outputs": [],
   "source": []
  }
 ],
 "metadata": {
  "kernelspec": {
   "display_name": "base",
   "language": "python",
   "name": "python3"
  },
  "language_info": {
   "codemirror_mode": {
    "name": "ipython",
    "version": 3
   },
   "file_extension": ".py",
   "mimetype": "text/x-python",
   "name": "python",
   "nbconvert_exporter": "python",
   "pygments_lexer": "ipython3",
   "version": "3.10.12"
  }
 },
 "nbformat": 4,
 "nbformat_minor": 2
}
